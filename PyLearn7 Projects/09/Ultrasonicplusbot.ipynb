{
  "cells": [
    {
      "cell_type": "code",
      "source": [
        "pip install khayyam"
      ],
      "metadata": {
        "colab": {
          "base_uri": "https://localhost:8080/"
        },
        "id": "vPUenNqlN_RD",
        "outputId": "95701fd8-6eee-45d8-a9a0-0542f364211e"
      },
      "execution_count": 1,
      "outputs": [
        {
          "output_type": "stream",
          "name": "stdout",
          "text": [
            "Collecting khayyam\n",
            "  Downloading Khayyam-3.0.17.tar.gz (46 kB)\n",
            "\u001b[2K     \u001b[90m━━━━━━━━━━━━━━━━━━━━━━━━━━━━━━━━━━━━━━━━\u001b[0m \u001b[32m47.0/47.0 kB\u001b[0m \u001b[31m1.1 MB/s\u001b[0m eta \u001b[36m0:00:00\u001b[0m\n",
            "\u001b[?25h  Preparing metadata (setup.py) ... \u001b[?25l\u001b[?25hdone\n",
            "Building wheels for collected packages: khayyam\n",
            "  Building wheel for khayyam (setup.py) ... \u001b[?25l\u001b[?25hdone\n",
            "  Created wheel for khayyam: filename=Khayyam-3.0.17-cp310-cp310-linux_x86_64.whl size=69485 sha256=4c7c3ec2563c39b7e484edc9565272b7191b0cfa66ab4d2b257028e8cb3065ad\n",
            "  Stored in directory: /root/.cache/pip/wheels/ab/b4/29/5cab56f6f2f39f4acb28fa6aa51ba5dff401d9ea74ad609d9b\n",
            "Successfully built khayyam\n",
            "Installing collected packages: khayyam\n",
            "Successfully installed khayyam-3.0.17\n"
          ]
        }
      ]
    },
    {
      "cell_type": "code",
      "execution_count": 11,
      "metadata": {
        "colab": {
          "base_uri": "https://localhost:8080/"
        },
        "id": "2xvkJtrxC-w5",
        "outputId": "700b2958-398e-454c-8d6f-c051766c40a8"
      },
      "outputs": [
        {
          "output_type": "stream",
          "name": "stdout",
          "text": [
            "Collecting pyTelegrambotapi\n",
            "  Downloading pytelegrambotapi-4.19.2-py3-none-any.whl (244 kB)\n",
            "\u001b[?25l     \u001b[90m━━━━━━━━━━━━━━━━━━━━━━━━━━━━━━━━━━━━━━━━\u001b[0m \u001b[32m0.0/244.9 kB\u001b[0m \u001b[31m?\u001b[0m eta \u001b[36m-:--:--\u001b[0m\r\u001b[2K     \u001b[91m━━━━━━━━━━━━━━━━━━━━━━━━━━━━━━━━━━━━\u001b[0m\u001b[91m╸\u001b[0m\u001b[90m━━━\u001b[0m \u001b[32m225.3/244.9 kB\u001b[0m \u001b[31m6.5 MB/s\u001b[0m eta \u001b[36m0:00:01\u001b[0m\r\u001b[2K     \u001b[90m━━━━━━━━━━━━━━━━━━━━━━━━━━━━━━━━━━━━━━━━\u001b[0m \u001b[32m244.9/244.9 kB\u001b[0m \u001b[31m5.2 MB/s\u001b[0m eta \u001b[36m0:00:00\u001b[0m\n",
            "\u001b[?25hRequirement already satisfied: requests in /usr/local/lib/python3.10/dist-packages (from pyTelegrambotapi) (2.31.0)\n",
            "Requirement already satisfied: charset-normalizer<4,>=2 in /usr/local/lib/python3.10/dist-packages (from requests->pyTelegrambotapi) (3.3.2)\n",
            "Requirement already satisfied: idna<4,>=2.5 in /usr/local/lib/python3.10/dist-packages (from requests->pyTelegrambotapi) (3.7)\n",
            "Requirement already satisfied: urllib3<3,>=1.21.1 in /usr/local/lib/python3.10/dist-packages (from requests->pyTelegrambotapi) (2.0.7)\n",
            "Requirement already satisfied: certifi>=2017.4.17 in /usr/local/lib/python3.10/dist-packages (from requests->pyTelegrambotapi) (2024.6.2)\n",
            "Installing collected packages: pyTelegrambotapi\n",
            "Successfully installed pyTelegrambotapi-4.19.2\n"
          ]
        }
      ],
      "source": [
        "pip install pyTelegrambotapi"
      ]
    },
    {
      "cell_type": "code",
      "execution_count": 12,
      "metadata": {
        "colab": {
          "base_uri": "https://localhost:8080/"
        },
        "id": "gqAOGh1bIvig",
        "outputId": "d022b1aa-9f65-46d4-fe2b-c0f92bd09c65"
      },
      "outputs": [
        {
          "output_type": "stream",
          "name": "stdout",
          "text": [
            "Collecting gTTS\n",
            "  Downloading gTTS-2.5.1-py3-none-any.whl (29 kB)\n",
            "Requirement already satisfied: requests<3,>=2.27 in /usr/local/lib/python3.10/dist-packages (from gTTS) (2.31.0)\n",
            "Requirement already satisfied: click<8.2,>=7.1 in /usr/local/lib/python3.10/dist-packages (from gTTS) (8.1.7)\n",
            "Requirement already satisfied: charset-normalizer<4,>=2 in /usr/local/lib/python3.10/dist-packages (from requests<3,>=2.27->gTTS) (3.3.2)\n",
            "Requirement already satisfied: idna<4,>=2.5 in /usr/local/lib/python3.10/dist-packages (from requests<3,>=2.27->gTTS) (3.7)\n",
            "Requirement already satisfied: urllib3<3,>=1.21.1 in /usr/local/lib/python3.10/dist-packages (from requests<3,>=2.27->gTTS) (2.0.7)\n",
            "Requirement already satisfied: certifi>=2017.4.17 in /usr/local/lib/python3.10/dist-packages (from requests<3,>=2.27->gTTS) (2024.6.2)\n",
            "Installing collected packages: gTTS\n",
            "Successfully installed gTTS-2.5.1\n"
          ]
        }
      ],
      "source": [
        "pip install gTTS"
      ]
    },
    {
      "cell_type": "code",
      "execution_count": 13,
      "metadata": {
        "colab": {
          "base_uri": "https://localhost:8080/"
        },
        "id": "l5JbjPIHuwUF",
        "outputId": "08279aa7-c7bf-466e-a473-443fc637a878"
      },
      "outputs": [
        {
          "output_type": "stream",
          "name": "stdout",
          "text": [
            "Collecting qrcode\n",
            "  Downloading qrcode-7.4.2-py3-none-any.whl (46 kB)\n",
            "\u001b[2K     \u001b[90m━━━━━━━━━━━━━━━━━━━━━━━━━━━━━━━━━━━━━━━━\u001b[0m \u001b[32m46.2/46.2 kB\u001b[0m \u001b[31m1.9 MB/s\u001b[0m eta \u001b[36m0:00:00\u001b[0m\n",
            "\u001b[?25hRequirement already satisfied: typing-extensions in /usr/local/lib/python3.10/dist-packages (from qrcode) (4.12.2)\n",
            "Collecting pypng (from qrcode)\n",
            "  Downloading pypng-0.20220715.0-py3-none-any.whl (58 kB)\n",
            "\u001b[2K     \u001b[90m━━━━━━━━━━━━━━━━━━━━━━━━━━━━━━━━━━━━━━━━\u001b[0m \u001b[32m58.1/58.1 kB\u001b[0m \u001b[31m4.2 MB/s\u001b[0m eta \u001b[36m0:00:00\u001b[0m\n",
            "\u001b[?25hInstalling collected packages: pypng, qrcode\n",
            "Successfully installed pypng-0.20220715.0 qrcode-7.4.2\n"
          ]
        }
      ],
      "source": [
        "pip install qrcode"
      ]
    },
    {
      "cell_type": "code",
      "execution_count": 14,
      "metadata": {
        "colab": {
          "base_uri": "https://localhost:8080/"
        },
        "id": "W19pz4JHxyhP",
        "outputId": "91023a71-8878-4965-80a3-96280857c0bc"
      },
      "outputs": [
        {
          "output_type": "stream",
          "name": "stdout",
          "text": [
            "Collecting telebot\n",
            "  Downloading telebot-0.0.5-py3-none-any.whl (4.8 kB)\n",
            "Requirement already satisfied: pyTelegramBotAPI in /usr/local/lib/python3.10/dist-packages (from telebot) (4.19.2)\n",
            "Requirement already satisfied: requests in /usr/local/lib/python3.10/dist-packages (from telebot) (2.31.0)\n",
            "Requirement already satisfied: charset-normalizer<4,>=2 in /usr/local/lib/python3.10/dist-packages (from requests->telebot) (3.3.2)\n",
            "Requirement already satisfied: idna<4,>=2.5 in /usr/local/lib/python3.10/dist-packages (from requests->telebot) (3.7)\n",
            "Requirement already satisfied: urllib3<3,>=1.21.1 in /usr/local/lib/python3.10/dist-packages (from requests->telebot) (2.0.7)\n",
            "Requirement already satisfied: certifi>=2017.4.17 in /usr/local/lib/python3.10/dist-packages (from requests->telebot) (2024.6.2)\n",
            "Installing collected packages: telebot\n",
            "Successfully installed telebot-0.0.5\n"
          ]
        }
      ],
      "source": [
        "pip install telebot"
      ]
    },
    {
      "cell_type": "code",
      "execution_count": 38,
      "metadata": {
        "id": "RLLGSPJGFg0-"
      },
      "outputs": [],
      "source": [
        "import telebot\n",
        "import string\n",
        "import random\n",
        "import os\n",
        "from gtts import gTTS\n",
        "import qrcode\n",
        "import khayyam\n",
        "from datetime import datetime\n",
        "\n",
        "bot = telebot.TeleBot(\"6803522028:AAFnoHc5yb8Q4afG75p__4h9l9pHrnPyFFg\")\n",
        "\n",
        "# Start Command\n",
        "@bot.message_handler(commands=['start'])\n",
        "def send_welcome(message):\n",
        "    bot.reply_to(message, f\"Hello {message.from_user.first_name} , Welcome to my Bot!\")\n",
        "\n",
        "\n",
        "# Help Command\n",
        "@bot.message_handler(commands=['help'])\n",
        "def help(message):\n",
        "    bot.send_message(message.chat.id, \"Here is a list of all the commands and their functionality\\n\"\n",
        "                                      \"/start - welcomes the user\\n\"\n",
        "                                      \"/game - play a guess game\\n\"\n",
        "                                      \"/age - calculates the age\\n\"\n",
        "                                      \"/voice - English text to speech converter\\n\"\n",
        "                                      \"/max - finds the maximum number amongst an array of numbers\\n\"\n",
        "                                      \"/argmax - finds the argument of the maximum number amongst an array of numbers\\n\"\n",
        "                                      \"/qrcode - converts string into a QR-Code\\n\"\n",
        "                                      \"/help - show the aforementioned commands\\n\")\n",
        "\n",
        "\n",
        "\n",
        "#Age Command\n",
        "current = datetime.utcnow()\n",
        "@bot.message_handler(commands=[\"age\"])\n",
        "def age(message):\n",
        "    msg = bot.send_message(message.chat.id, \"Enter your birth date in Jalali format like YYYY/MM/DD\")\n",
        "    bot.register_next_step_handler(msg, find_age)\n",
        "\n",
        "def find_age(message):\n",
        "    text = message.text\n",
        "    new_text = text.translate({ord(c): None for c in string.whitespace})\n",
        "    values = new_text.split(\"/\")\n",
        "    convertible_to_float = [float(s) for s in values if isinstance(s, str) and s.isdigit()]\n",
        "    if convertible_to_float == []:\n",
        "        bot.send_message(message.chat.id, \"Enter Correct Style of Date to get your age!\\nGame is Closed!\")\n",
        "    else:\n",
        "        if convertible_to_float[0] > 1403 or convertible_to_float[0] < 1:\n",
        "            bot.send_message(message.chat.id, \"Year Must be Between 1 and 1403 Idiot!\\nGame Closed\")\n",
        "        elif convertible_to_float[1] >12 or convertible_to_float[1] < 1:\n",
        "            bot.send_message(message.chat.id, \"Month Must be Between 1 and 12 Idiot!\\nGame Closed\")\n",
        "        elif convertible_to_float [2] > 31 or convertible_to_float[2] < 1:\n",
        "            bot.send_message(message.chat.id, \"Day Must be Between 1 and 31 Idiot!\\Game Closed\")\n",
        "        else:\n",
        "            roman_birth = khayyam.JalaliDate(convertible_to_float[0], convertible_to_float[1], convertible_to_float[2]).todate()\n",
        "            day_answer = current.day - roman_birth.day\n",
        "            month_answer = current.month - roman_birth.month\n",
        "            year_answer = current.year - roman_birth.year\n",
        "            if day_answer < 0:\n",
        "                month_answer -= 1\n",
        "                day_answer += 30\n",
        "            if month_answer < 0:\n",
        "                year_answer -= 1\n",
        "                month_answer += 12\n",
        "            bot.send_message(message.chat.id, f\"You are {year_answer} years and {month_answer} month and {day_answer} day OLD!\")\n",
        "\n",
        "\n",
        "# Finds the maximum number among a set of string of numbers\n",
        "@bot.message_handler(commands=[\"max\"])\n",
        "def maximum(message):\n",
        "    msg = bot.send_message(message.chat.id, \"Enter an array of String of numbers in the form of the: 1st number, 2nd number, 3rd number, ....\")\n",
        "    bot.register_next_step_handler(msg, find_max)\n",
        "\n",
        "\n",
        "def find_max(message):\n",
        "    numbers_set = message.text\n",
        "    new_numbers_set = numbers_set.translate({ord(c): None for c in string.whitespace})\n",
        "    values = new_numbers_set.split(\",\")\n",
        "    convertible_to_float = [float(s) for s in values if isinstance(s, str) and s.isdigit()]\n",
        "    if convertible_to_float == []:\n",
        "        bot.send_message(message.chat.id, \"Enter Correct Set of Numbers\\nGame is Closed!\")\n",
        "    else:\n",
        "        bot.send_message(message.chat.id, f\"{max(convertible_to_float)} is The Greatest among the rest\")\n",
        "\n",
        "\n",
        "# Finds the Argument of the maximum number among a set of string of numbers\n",
        "@bot.message_handler(commands=[\"argmax\"])\n",
        "def maximum(message):\n",
        "    msg = bot.send_message(message.chat.id, \"Enter an array of String of numbers in the form of the: 1st number, 2nd number, 3rd number, ....\")\n",
        "    bot.register_next_step_handler(msg, arg_max)\n",
        "\n",
        "\n",
        "def arg_max(message):\n",
        "    numbers_set = message.text\n",
        "    new_numbers_set = numbers_set.translate({ord(c): None for c in string.whitespace})\n",
        "    values = new_numbers_set.split(\",\")\n",
        "    convertible_to_float = [float(s) for s in values if isinstance(s, str) and s.isdigit()]\n",
        "    if convertible_to_float == []:\n",
        "        bot.send_message(message.chat.id, \"Enter Correct Set of Numbers\\nGame is Closed!\")\n",
        "    else:\n",
        "        bot.send_message(message.chat.id, f\"{convertible_to_float.index(max(convertible_to_float))} is The Index of the Greatest Number among the rest\")\n",
        "\n",
        "\n",
        "\n",
        "# Text to Speech Converter\n",
        "@bot.message_handler(commands=['voice'])\n",
        "def TTS(message):\n",
        "    msg = bot.send_message(message.chat.id, \"Enter a valid statement in English Language\")\n",
        "    bot.register_next_step_handler(msg, convert_to_speech)\n",
        "\n",
        "def convert_to_speech(message):\n",
        "    # Get the text input from the user\n",
        "    text = message.text.replace('/voice ', '')\n",
        "\n",
        "    # Convert text to speech using gTTS\n",
        "    tts = gTTS(text=text, lang='en')\n",
        "\n",
        "    # Save the speech as an audio file\n",
        "    audio_file = 'speech.mp3'\n",
        "    tts.save(audio_file)\n",
        "\n",
        "    # Send the audio file to the user\n",
        "    with open(audio_file, 'rb') as f:\n",
        "        bot.send_audio(message.chat.id, f)\n",
        "\n",
        "    # Delete the audio file after sending it\n",
        "    os.remove(audio_file)\n",
        "\n",
        "\n",
        "def msg(message ,m):\n",
        "    return bot.send_message(message.chat.id, m)\n",
        "\n",
        "\n",
        "rand_n = {}\n",
        "# Guess Game Command\n",
        "@bot.message_handler(commands=['game'])\n",
        "def game_command(message):\n",
        "\n",
        "    username = message.from_user.username\n",
        "    rand_n[username] = random.randint(0, 100)\n",
        "\n",
        "    msg(message, \"Guess number game!\")\n",
        "    m = bot.send_message(message.chat.id, \"Enter your guess: \")\n",
        "    bot.register_next_step_handler(m, game)\n",
        "\n",
        "@bot.message_handler(commands=[\"restart\"])\n",
        "def restart_game(message):\n",
        "    username = message.from_user.username\n",
        "    rand_n[username] = random.randint(0, 100)\n",
        "\n",
        "    msg(message, \"Game is restarted....\")\n",
        "    msg(message, \"Guess number game!\")\n",
        "    m = bot.send_message(message.chat.id, \"Enter your guess: \")\n",
        "    bot.register_next_step_handler(m, game)\n",
        "\n",
        "\n",
        "def game(message):\n",
        "    try:\n",
        "        username = message.from_user.username\n",
        "        guess = int(message.text)\n",
        "\n",
        "        if guess == rand_n[username]:\n",
        "            bot.send_message(message.chat.id, \"Congratulations!\\nGame is Closed\")\n",
        "        elif guess > rand_n[username]:\n",
        "            m = bot.send_message(message.chat.id, \"Go Down\")\n",
        "            bot.register_next_step_handler(m, game)\n",
        "\n",
        "        elif guess < rand_n[username]:\n",
        "            m = bot.send_message(message.chat.id, \"Go Up\")\n",
        "            bot.register_next_step_handler(m, game)\n",
        "\n",
        "        user_input = int(message.text)\n",
        "    except:\n",
        "        if message.text == '/restart':\n",
        "            restart_game(message)\n",
        "        else:\n",
        "            bot.send_message(message.chat.id, \"Enter the number correctly\\nGame is closed\")\n",
        "\n",
        "\n",
        "@bot.message_handler(commands=['qrcode'])\n",
        "def qrcode_command(message):\n",
        "    m = bot.send_message(message.chat.id, \"Enter a valid string to convert to qrcode\")\n",
        "    bot.register_next_step_handler(m, qrcode_maker)\n",
        "\n",
        "def qrcode_maker(message):\n",
        "    res = qrcode.make(message.text)\n",
        "    res.save(\"QRcode.png\")\n",
        "    with open(\"QRcode.png\", \"rb\") as photo:\n",
        "        bot.send_photo(message.chat.id, photo)\n",
        "\n",
        "\n",
        "# Run the Commands\n",
        "bot.polling()"
      ]
    }
  ],
  "metadata": {
    "colab": {
      "provenance": []
    },
    "kernelspec": {
      "display_name": "Python 3",
      "name": "python3"
    },
    "language_info": {
      "name": "python"
    }
  },
  "nbformat": 4,
  "nbformat_minor": 0
}